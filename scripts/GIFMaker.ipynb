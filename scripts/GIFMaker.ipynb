{
 "cells": [
  {
   "cell_type": "markdown",
   "id": "d5625c94",
   "metadata": {},
   "source": [
    "# 3D Gif Generator"
   ]
  },
  {
   "cell_type": "code",
   "execution_count": null,
   "id": "839827b4",
   "metadata": {},
   "outputs": [],
   "source": [
    "import numpy as np"
   ]
  },
  {
   "cell_type": "code",
   "execution_count": null,
   "id": "1ca4c2c0",
   "metadata": {},
   "outputs": [],
   "source": [
    "# === Settings ===\n",
    "input_path = \"./viz/tsdf-rgbd-04.ply\"           # <-- Path to the input .ply file to be visualized\n",
    "output_dir = \"spin_frames\"                      # <-- Output Directory\n",
    "gif_path = \"spinning_mesh3.gif\"                 # <-- Output Name\n",
    "num_frames = 50                                # <-- Number of frames\n",
    "rotation_axis = [0, 1, 0]                       # <-- Axis to be rotated in\n",
    "degrees_per_frame = 360 / num_frames            # <-- Degrees per frame\n",
    "img_size = (512, 512)                           # <-- Image size"
   ]
  },
  {
   "cell_type": "code",
   "execution_count": null,
   "id": "f050ffa3",
   "metadata": {},
   "outputs": [
    {
     "name": "stdout",
     "output_type": "stream",
     "text": [
      "Mesh has vertex colors.\n"
     ]
    },
    {
     "name": "stderr",
     "output_type": "stream",
     "text": [
      "C:\\Users\\tayla\\AppData\\Local\\Temp\\ipykernel_6380\\2540142956.py:54: DeprecationWarning: Starting with ImageIO v3 the behavior of this function will switch to that of iio.v3.imread. To keep the current behavior (and make this warning disappear) use `import imageio.v2 as imageio` or call `imageio.v2.imread` directly.\n",
      "  images.append(imageio.imread(img_path))\n"
     ]
    },
    {
     "name": "stdout",
     "output_type": "stream",
     "text": [
      "✅ GIF saved as: spinning_mesh.gif\n"
     ]
    }
   ],
   "source": [
    "import open3d as o3d\n",
    "import numpy as np\n",
    "import imageio\n",
    "import os\n",
    "import copy\n",
    "\n",
    "# === Load and prepare mesh ===\n",
    "mesh = o3d.io.read_triangle_mesh(input_path)\n",
    "mesh.compute_vertex_normals()\n",
    "\n",
    "if mesh.has_vertex_colors():\n",
    "    print(\"Mesh has vertex colors.\")\n",
    "    colors = np.asarray(mesh.vertex_colors)\n",
    "    if colors.max() > 1.0:\n",
    "        mesh.vertex_colors = o3d.utility.Vector3dVector(colors / 255.0)\n",
    "\n",
    "# === Setup visualizer ===\n",
    "vis = o3d.visualization.Visualizer()\n",
    "vis.create_window(visible=False, width=img_size[0], height=img_size[1])\n",
    "vis.add_geometry(mesh)\n",
    "\n",
    "ctr = vis.get_view_control()\n",
    "ctr.set_zoom(0.7)\n",
    "\n",
    "os.makedirs(output_dir, exist_ok=True)\n",
    "images = []\n",
    "\n",
    "# === Render spin frames ===\n",
    "current_mesh = mesh\n",
    "for i in range(num_frames):\n",
    "    mesh_copy = copy.deepcopy(current_mesh)\n",
    "\n",
    "    angle = np.deg2rad(degrees_per_frame * i)\n",
    "    R = mesh_copy.get_rotation_matrix_from_axis_angle(np.array(rotation_axis) * angle)\n",
    "    mesh_copy.rotate(R, center=mesh_copy.get_center())\n",
    "\n",
    "    vis.clear_geometries()\n",
    "    vis.add_geometry(mesh_copy)\n",
    "\n",
    "    vis.poll_events()\n",
    "    vis.update_renderer()\n",
    "\n",
    "    img_path = os.path.join(output_dir, f\"frame_{i:03d}.png\")\n",
    "    vis.capture_screen_image(img_path)\n",
    "    images.append(imageio.imread(img_path))\n",
    "\n",
    "vis.destroy_window()\n",
    "\n",
    "# === Create GIF ===\n",
    "imageio.mimsave(gif_path, images, duration=0.05)\n",
    "print(f\"✅ GIF saved as: {gif_path}\")"
   ]
  }
 ],
 "metadata": {
  "kernelspec": {
   "display_name": "3DVision-ex2",
   "language": "python",
   "name": "python3"
  },
  "language_info": {
   "codemirror_mode": {
    "name": "ipython",
    "version": 3
   },
   "file_extension": ".py",
   "mimetype": "text/x-python",
   "name": "python",
   "nbconvert_exporter": "python",
   "pygments_lexer": "ipython3",
   "version": "3.12.0"
  }
 },
 "nbformat": 4,
 "nbformat_minor": 5
}
